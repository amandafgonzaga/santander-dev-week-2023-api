{
  "nbformat": 4,
  "nbformat_minor": 0,
  "metadata": {
    "colab": {
      "provenance": [],
      "authorship_tag": "ABX9TyNEA2Gf3Y5UO0qZMC38OjPv",
      "include_colab_link": true
    },
    "kernelspec": {
      "name": "python3",
      "display_name": "Python 3"
    },
    "language_info": {
      "name": "python"
    }
  },
  "cells": [
    {
      "cell_type": "markdown",
      "metadata": {
        "id": "view-in-github",
        "colab_type": "text"
      },
      "source": [
        "<a href=\"https://colab.research.google.com/github/amandafgonzaga/santander-dev-week-2023-api/blob/main/SDW2023.ipynb\" target=\"_parent\"><img src=\"https://colab.research.google.com/assets/colab-badge.svg\" alt=\"Open In Colab\"/></a>"
      ]
    },
    {
      "cell_type": "code",
      "execution_count": 3,
      "metadata": {
        "colab": {
          "base_uri": "https://localhost:8080/"
        },
        "id": "ynh756sWqLL9",
        "outputId": "f5dbc291-08b1-4d93-bbd5-753c5f0c8181"
      },
      "outputs": [
        {
          "output_type": "stream",
          "name": "stdout",
          "text": [
            "Processo de ETL concluído. Dados transformados foram salvos em 'dados_transformados.csv'.\n"
          ]
        }
      ],
      "source": [
        "import pandas as pd\n",
        "\n",
        "# Passo 1: Extração - Carregar dados de uma fonte (neste caso, um arquivo CSV)\n",
        "source_file = 'dados_originais.csv'\n",
        "df = pd.read_csv(source_file)\n",
        "\n",
        "# Passo 2: Transformação - Aplicar transformações nos dados\n",
        "# Exemplo de transformação simples: Converter uma coluna para maiúsculas\n",
        "df['Nome'] = df['Nome'].str.upper()\n",
        "\n",
        "# Passo 3: Carga - Salvar os dados transformados em uma nova fonte (neste caso, um novo arquivo CSV)\n",
        "destination_file = 'dados_transformados.csv'\n",
        "df.to_csv(destination_file, index=False)\n",
        "\n",
        "print(\"Processo de ETL concluído. Dados transformados foram salvos em 'dados_transformados.csv'.\")\n"
      ]
    },
    {
      "cell_type": "code",
      "source": [],
      "metadata": {
        "id": "Ali4Veo3q-LS"
      },
      "execution_count": null,
      "outputs": []
    }
  ]
}